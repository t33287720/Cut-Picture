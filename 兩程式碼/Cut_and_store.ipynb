{
 "cells": [
  {
   "cell_type": "code",
   "execution_count": 6,
   "id": "8b621ae9-a57c-49f9-8ff7-2fb9a1b5c87e",
   "metadata": {},
   "outputs": [
    {
     "name": "stdin",
     "output_type": "stream",
     "text": [
      "輸入座標信息：  第一點座標：x: 150 , y: 160 第二點座標：x: 361 , y: 371\n"
     ]
    },
    {
     "name": "stdout",
     "output_type": "stream",
     "text": [
      "已上傳裁切後 0_1.jpg\n",
      "已上傳裁切後 1_1.jpg\n"
     ]
    }
   ],
   "source": [
    "# 取得名稱為流水號的圖片 從0開始\n",
    "# 每10秒裁切一次\n",
    "# 每裁切一次就將流水號+1\n",
    "# 裁切圖片名為 i_1\n",
    "# 關閉前一次之圖片 顯示當前裁切之圖片\n",
    "# 無法找到圖片則多等待10秒 再次執行\n",
    "# 任意鍵停止程式碼\n",
    "import cv2\n",
    "import time\n",
    "import re\n",
    "i = 0\n",
    "show_pic = 1 # 裁切後圖片顯示\n",
    "# 確保第一張圖片存在\n",
    "img = cv2.imread(f'{i}.jpg')\n",
    "if img is None:\n",
    "   print(\"找不到第一張圖片\")\n",
    "else:\n",
    "    # 讀取輸入字符串\n",
    "    input_str = input(\"輸入座標信息：\")\n",
    "\n",
    "    # 使用正規表達式找到所有數字\n",
    "    numbers = re.findall(r'\\d+', input_str)\n",
    "\n",
    "    # 將數字轉換為整數\n",
    "    numbers = list(map(int, numbers))\n",
    "\n",
    "    # 提取 x1, y1, x2, y2\n",
    "    x1, y1, x2, y2 = numbers[:4]\n",
    "    while True:\n",
    "       try:\n",
    "           img = cv2.imread(f'{i}.jpg')  # 讀取圖片 i.jpg\n",
    "           if x1>x2:\n",
    "               x1, x2 = x2, x1\n",
    "           if y1>y2:\n",
    "               y1, y2 = y2, y1\n",
    "           crop_img = img[y1:y2, x1:x2]  # 取出陣列的範圍\n",
    "           output_name = f\"{i}_1.jpg\"  # 根據 i 生成新的圖片名稱\n",
    "           if show_pic:\n",
    "               if i>0:\n",
    "                   cv2.destroyWindow(f'{i-1}_1')  # 關閉前一個圖片\n",
    "               cv2.imshow(f'{i}_1', crop_img) # 顯示當前儲存圖片\n",
    "           cv2.imwrite(output_name, crop_img)  # 儲存圖片\n",
    "           print(f\"已上傳裁切後 {i}_1.jpg\")\n",
    "           i += 1  # 更新 i\n",
    "       except Exception as e:\n",
    "           print(f\"找不到圖片 {i}.jpg: {e}\")\n",
    "           cv2.waitKey(10000)\n",
    "\n",
    "       # 檢查是否有按鍵輸入，如果有任何鍵按下，退出迴圈\n",
    "       if cv2.waitKey(10000) >= 0:\n",
    "           break\n",
    "cv2.destroyAllWindows()"
   ]
  },
  {
   "cell_type": "code",
   "execution_count": null,
   "id": "d33488bd-ac58-44df-b3d2-e58ae1608136",
   "metadata": {},
   "outputs": [],
   "source": []
  }
 ],
 "metadata": {
  "kernelspec": {
   "display_name": "Python 3 (ipykernel)",
   "language": "python",
   "name": "python3"
  },
  "language_info": {
   "codemirror_mode": {
    "name": "ipython",
    "version": 3
   },
   "file_extension": ".py",
   "mimetype": "text/x-python",
   "name": "python",
   "nbconvert_exporter": "python",
   "pygments_lexer": "ipython3",
   "version": "3.12.3"
  }
 },
 "nbformat": 4,
 "nbformat_minor": 5
}
